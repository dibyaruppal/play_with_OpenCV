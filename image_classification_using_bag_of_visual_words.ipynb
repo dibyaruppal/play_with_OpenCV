{
  "cells": [
    {
      "cell_type": "code",
      "execution_count": 23,
      "metadata": {
        "id": "uDBYl3qE_Wc-"
      },
      "outputs": [],
      "source": [
        "import zipfile\n",
        "\n",
        "zip_file_path = 'Assignment2_BikeHorses.zip'\n",
        "\n",
        "with zipfile.ZipFile(zip_file_path, 'r') as zip_ref:\n",
        "    extract_path = 'DATASET'\n",
        "    zip_ref.extractall(extract_path)\n"
      ]
    },
    {
      "cell_type": "code",
      "execution_count": 30,
      "metadata": {
        "colab": {
          "base_uri": "https://localhost:8080/"
        },
        "id": "TcvWBDZvv0KV",
        "outputId": "32d658d8-7a70-4114-e381-db1924faff80"
      },
      "outputs": [
        {
          "name": "stdout",
          "output_type": "stream",
          "text": [
            "Number of Bike Images: 80\n",
            "Number of Horse Images: 99\n"
          ]
        },
        {
          "name": "stderr",
          "output_type": "stream",
          "text": [
            "/usr/local/lib/python3.10/dist-packages/sklearn/cluster/_kmeans.py:870: FutureWarning: The default value of `n_init` will change from 10 to 'auto' in 1.4. Set the value of `n_init` explicitly to suppress the warning\n",
            "  warnings.warn(\n"
          ]
        },
        {
          "name": "stdout",
          "output_type": "stream",
          "text": [
            "Accuracy: 0.8611111111111112\n"
          ]
        }
      ],
      "source": [
        "import cv2\n",
        "import os\n",
        "import numpy as np\n",
        "from sklearn.cluster import KMeans\n",
        "from sklearn.svm import SVC\n",
        "from sklearn.metrics import accuracy_score\n",
        "from sklearn.model_selection import train_test_split\n",
        "\n",
        "#---------------------------------------------------------------------------------------<Reading Dataset>-----||\n",
        "def load_images(folder_path):\n",
        "    images = []\n",
        "    labels = []\n",
        "    for filename in os.listdir(folder_path):\n",
        "        if filename.endswith(\".jpg\") or filename.endswith(\".jpeg\") or filename.endswith(\".png\"):\n",
        "            img_path = os.path.join(folder_path, filename)\n",
        "            img = cv2.imread(img_path)\n",
        "            if img is not None:\n",
        "                images.append(img)\n",
        "                labels.append(os.path.basename(folder_path))\n",
        "\n",
        "    return images, labels\n",
        "\n",
        "bikes_folder = 'DATASET/Assignment2_BikeHorses/Bikes'\n",
        "horses_folder = 'DATASET/Assignment2_BikeHorses/Horses'\n",
        "\n",
        "bike_images, bike_labels = load_images(bikes_folder)\n",
        "horse_images, horse_labels = load_images(horses_folder)\n",
        "num_bike_images = len(bike_images)\n",
        "num_horse_images = len(horse_images)\n",
        "print(\"Number of Bike Images:\", num_bike_images)\n",
        "print(\"Number of Horse Images:\", num_horse_images)\n",
        "\n",
        "bike_labels.extend(horse_labels) #MergeLabels\n",
        "\n",
        "all_labels = []\n",
        "all_labels.append(bike_labels)\n",
        "\n",
        "#----------------------------------------------------------------------------------------------<Features>-----||\n",
        "sift = cv2.SIFT_create() #SIFT\n",
        "bike_descriptors = []\n",
        "horse_descriptors = []\n",
        "all_descriptors = []\n",
        "\n",
        "for img in bike_images:\n",
        "    gray = cv2.cvtColor(img, cv2.COLOR_BGR2GRAY)\n",
        "    _, descriptors = sift.detectAndCompute(gray, None)\n",
        "    bike_descriptors.extend(descriptors)\n",
        "\n",
        "for img in horse_images:\n",
        "    gray = cv2.cvtColor(img, cv2.COLOR_BGR2GRAY)\n",
        "    _, descriptors = sift.detectAndCompute(gray, None)\n",
        "    horse_descriptors.extend(descriptors)\n",
        "\n",
        "all_descriptors.extend(bike_descriptors)\n",
        "all_descriptors.extend(horse_descriptors)\n",
        "\n",
        "# Kmeans\n",
        "all_descriptors = np.array(all_descriptors)\n",
        "num_clusters = 100\n",
        "kmeans = KMeans(num_clusters)\n",
        "kmeans.fit(all_descriptors)\n",
        "\n",
        "# Histogram representation\n",
        "histograms = []\n",
        "for img in bike_images:\n",
        "    gray = cv2.cvtColor(img, cv2.COLOR_BGR2GRAY)\n",
        "    _, descriptors = sift.detectAndCompute(gray, None)\n",
        "\n",
        "    labels = kmeans.predict(descriptors) # Assigning each descriptor to a cluster\n",
        "    histogram, _ = np.histogram(labels, bins=range(num_clusters+1)) # Histogram based on the cluster labels and assigning bins\n",
        "    histograms.append(histogram)\n",
        "\n",
        "for img in horse_images:\n",
        "    gray = cv2.cvtColor(img, cv2.COLOR_BGR2GRAY)\n",
        "    _, descriptors = sift.detectAndCompute(gray, None)\n",
        "\n",
        "    labels = kmeans.predict(descriptors) # Assigning each descriptor to a cluster\n",
        "    histogram, _ = np.histogram(labels, bins=range(num_clusters+1)) # Histogram based on the cluster labels and assigning bins\n",
        "    histograms.append(histogram)\n",
        "\n",
        "#----------------------------------------------------------------------------------------<Classification>-----||\n",
        "features = np.array(histograms)\n",
        "labels = np.array([0] * num_bike_images + [1] * num_horse_images) # Assiging 0 for bikes, 1 for horses\n",
        "\n",
        "X_train, X_test, y_train, y_test = train_test_split(features, labels, test_size=0.2, random_state=42) #Split datasets\n",
        "classifier = SVC() # SVM - Support vector Classification\n",
        "classifier.fit(X_train, y_train)\n",
        "\n",
        "y_pred = classifier.predict(X_test)\n",
        "accuracy = accuracy_score(y_test, y_pred)\n",
        "print(\"Accuracy:\", accuracy) #Accuray Score\n",
        "\n",
        "#--------------------------------------------------------------------------------------<Saving model pkl>-----||\n",
        "import pickle # Saving the model\n",
        "with open('svm_classifier.pkl', 'wb') as file:\n",
        "    pickle.dump(classifier,file)"
      ]
    },
    {
      "cell_type": "code",
      "execution_count": 33,
      "metadata": {
        "colab": {
          "base_uri": "https://localhost:8080/"
        },
        "id": "RDyDVtlnjQ5k",
        "outputId": "646bb904-bb99-4573-9c01-65f66717719d"
      },
      "outputs": [
        {
          "name": "stdout",
          "output_type": "stream",
          "text": [
            "Accuracy: 0.9722222222222222\n"
          ]
        }
      ],
      "source": [
        "from sklearn.linear_model import LogisticRegression\n",
        "\n",
        "clf = LogisticRegression(multi_class='multinomial', solver='lbfgs', max_iter=1000)\n",
        "clf.fit(X_train, y_train)\n",
        "\n",
        "y_pred = clf.predict(X_test)\n",
        "LR_accuracy = accuracy_score(y_test, y_pred)\n",
        "print(\"Accuracy:\", LR_accuracy)  # Accuracy Score"
      ]
    },
    {
      "cell_type": "code",
      "execution_count": 34,
      "metadata": {
        "colab": {
          "base_uri": "https://localhost:8080/"
        },
        "id": "_dBJAze3jWrb",
        "outputId": "d63a137e-7e43-45c8-e8e0-a3f5c69038ba"
      },
      "outputs": [
        {
          "name": "stdout",
          "output_type": "stream",
          "text": [
            "Accuracy: 0.8611111111111112\n"
          ]
        }
      ],
      "source": [
        "from sklearn.neighbors import KNeighborsClassifier\n",
        "\n",
        "knn = KNeighborsClassifier(n_neighbors=7)\n",
        "knn.fit(X_train, y_train)\n",
        "\n",
        "y_pred = knn.predict(X_test)\n",
        "KNN_accuracy = accuracy_score(y_test, y_pred)\n",
        "print(\"Accuracy:\", KNN_accuracy)  # Accuracy Score"
      ]
    },
    {
      "cell_type": "code",
      "execution_count": 36,
      "metadata": {
        "colab": {
          "base_uri": "https://localhost:8080/",
          "height": 487
        },
        "id": "bQvqb2WOjWkz",
        "outputId": "a6e1583a-17bd-4db3-caf1-f939505e47ff"
      },
      "outputs": [
        {
          "data": {
            "image/png": "[encoded data removed]",
            "text/plain": [
              "<Figure size 800x500 with 1 Axes>"
            ]
          },
          "metadata": {},
          "output_type": "display_data"
        }
      ],
      "source": [
        "import numpy as np\n",
        "import matplotlib.pyplot as plt\n",
        "\n",
        "\n",
        "# creating the dataset\n",
        "data = {'Support Vector Classfier':accuracy, 'Logistic Regression':LR_accuracy, 'KNN Classfier':KNN_accuracy}\n",
        "courses = list(data.keys())\n",
        "values = list(data.values())\n",
        "\n",
        "fig = plt.figure(figsize = (8, 5))\n",
        "\n",
        "# creating the bar plot\n",
        "plt.bar(courses, values, color ='maroon', width = 0.3)\n",
        "\n",
        "plt.xlabel(\"Classification problem\")\n",
        "plt.ylabel(\"Test Accuracy\")\n",
        "plt.title(\"Bike vs Horse Classfication problem using Bag of Visual Words Approach\")\n",
        "plt.show()"
      ]
    },
    {
      "cell_type": "code",
      "execution_count": null,
      "metadata": {
        "colab": {
          "base_uri": "https://localhost:8080/"
        },
        "id": "eDcSfG0W2Rfo",
        "outputId": "2d85a8dc-1c99-454b-8ea8-f54fad79b02b"
      },
      "outputs": [
        {
          "name": "stdout",
          "output_type": "stream",
          "text": [
            "Original image : b1.jpg, Prediction : Bike\n",
            "Original image : b2.png, Prediction : Bike\n",
            "Original image : h1.jpg, Prediction : Horse\n",
            "Original image : h2.jpg, Prediction : Horse\n"
          ]
        }
      ],
      "source": [
        "import cv2\n",
        "import os\n",
        "import numpy as np\n",
        "import pickle\n",
        "from sklearn.cluster import KMeans\n",
        "from sklearn.svm import SVC\n",
        "from sklearn.metrics import accuracy_score\n",
        "from sklearn.model_selection import train_test_split\n",
        "\n",
        "def load_images(folder_path):\n",
        "    images = []\n",
        "\n",
        "    for filename in os.listdir(folder_path):\n",
        "        if filename.endswith(\".jpg\") or filename.endswith(\".jpeg\") or filename.endswith(\".png\"):\n",
        "            img_path = os.path.join(folder_path, filename)\n",
        "            img = cv2.imread(img_path)\n",
        "            if img is not None:\n",
        "                images.append(img)\n",
        "    return images\n",
        "\n",
        "#--------------------------------------------------------------------------------------------<Load model>-----||\n",
        "with open('svm_classifier.pkl', 'rb') as file: # Load the classifier from the file\n",
        "    loaded_classifier = pickle.load(file)\n",
        "\n",
        "    Test_folder = 'Test'\n",
        "    Test_images = load_images(Test_folder)\n",
        "    predictions = []\n",
        "\n",
        "#-----------------------------------------------------------------------------<SIFT, K-means, Classifier>-----||\n",
        "    for img_path, new_img in zip(sorted(os.listdir(Test_folder)), Test_images):\n",
        "        gray = cv2.cvtColor(new_img, cv2.COLOR_BGR2GRAY)\n",
        "        _, descriptors = sift.detectAndCompute(gray, None) #SIFT\n",
        "\n",
        "        new_image_descriptors = np.array(descriptors)\n",
        "        new_image_labels = kmeans.predict(new_image_descriptors) #Kmeans\n",
        "        new_image_histogram, _ = np.histogram(new_image_labels, bins=range(num_clusters + 1)) #Histogram\n",
        "        new_image_feature = np.array([new_image_histogram])\n",
        "\n",
        "        prediction = loaded_classifier.predict(new_image_feature) #Classify\n",
        "        predictions.append((img_path, prediction))\n",
        "        pVal = \"Bike\" if prediction==0 else \"Horse\"\n",
        "        print(f\"Original image : {img_path}, Prediction : {pVal}\")"
      ]
    },
    {
      "cell_type": "markdown",
      "metadata": {
        "id": "YO54QH7IlRz-"
      },
      "source": [
        "## Classification on CIFAR10 dataset using Visual Bag of Word approach"
      ]
    },
    {
      "cell_type": "code",
      "execution_count": 1,
      "metadata": {
        "colab": {
          "base_uri": "https://localhost:8080/"
        },
        "id": "J_ZjJsUE23vP",
        "outputId": "9eeb251c-c559-4cf8-b97a-b6e038dd9b38"
      },
      "outputs": [
        {
          "name": "stdout",
          "output_type": "stream",
          "text": [
            "Downloading data from https://www.cs.toronto.edu/~kriz/cifar-10-python.tar.gz\n",
            "170498071/170498071 [==============================] - 4s 0us/step\n",
            "Number of CIFAR-10 Images: 60000\n"
          ]
        },
        {
          "name": "stderr",
          "output_type": "stream",
          "text": [
            "/usr/local/lib/python3.10/dist-packages/sklearn/cluster/_kmeans.py:870: FutureWarning: The default value of `n_init` will change from 3 to 'auto' in 1.4. Set the value of `n_init` explicitly to suppress the warning\n",
            "  warnings.warn(\n"
          ]
        },
        {
          "name": "stdout",
          "output_type": "stream",
          "text": [
            "Accuracy: 0.31066666666666665\n"
          ]
        }
      ],
      "source": [
        "import cv2\n",
        "import os\n",
        "import numpy as np\n",
        "from sklearn.cluster import MiniBatchKMeans\n",
        "from sklearn.svm import SVC\n",
        "from sklearn.metrics import accuracy_score\n",
        "from sklearn.model_selection import train_test_split\n",
        "import pickle\n",
        "from tensorflow.keras.datasets import cifar10\n",
        "\n",
        "#-------------------------------------------------------------------------------------<Reading CIFAR-10 Dataset>-----||\n",
        "def load_cifar10():\n",
        "    (x_train, y_train), (x_test, y_test) = cifar10.load_data()\n",
        "    return np.concatenate((x_train, x_test), axis=0), np.concatenate((y_train, y_test), axis=0)\n",
        "\n",
        "cifar_images, cifar_labels = load_cifar10()\n",
        "num_cifar_images = len(cifar_images)\n",
        "print(\"Number of CIFAR-10 Images:\", num_cifar_images)\n",
        "\n",
        "#-----------------------------------------------------------------------------------------<Features and Mini-Batch KMeans>-----||\n",
        "sift = cv2.SIFT_create()  # SIFT\n",
        "all_descriptors = []\n",
        "num_clusters = 1000\n",
        "batch_size = 512\n",
        "kmeans = MiniBatchKMeans(n_clusters=num_clusters, batch_size=batch_size)\n",
        "\n",
        "# Batch processing\n",
        "for i in range(0, num_cifar_images, batch_size):\n",
        "    batch_images = cifar_images[i:i+batch_size]\n",
        "    batch_descriptors = []\n",
        "\n",
        "    for img in batch_images:\n",
        "        gray = cv2.cvtColor(img, cv2.COLOR_BGR2GRAY)\n",
        "        keypoints, descriptors = sift.detectAndCompute(gray, None)\n",
        "\n",
        "        if descriptors is not None:\n",
        "            batch_descriptors.extend(descriptors)\n",
        "\n",
        "    if batch_descriptors:\n",
        "        kmeans.partial_fit(np.array(batch_descriptors))\n",
        "\n",
        "#-------------------------------------------------------------------------------------<Histogram representation>-----||\n",
        "histograms = []\n",
        "for i in range(0, num_cifar_images, batch_size):\n",
        "    batch_images = cifar_images[i:i+batch_size]\n",
        "    batch_histograms = []\n",
        "\n",
        "    for img in batch_images:\n",
        "        gray = cv2.cvtColor(img, cv2.COLOR_BGR2GRAY)\n",
        "        keypoints, descriptors = sift.detectAndCompute(gray, None)\n",
        "\n",
        "        if descriptors is not None:\n",
        "            labels = kmeans.predict(descriptors)  # Assigning each descriptor to a cluster\n",
        "            histogram, _ = np.histogram(labels, bins=range(num_clusters + 1))  # Histogram based on the cluster labels and assigning bins\n",
        "            batch_histograms.append(histogram)\n",
        "        else:\n",
        "            # If descriptors are None, create an empty histogram\n",
        "            batch_histograms.append(np.zeros(num_clusters))\n",
        "\n",
        "    histograms.extend(batch_histograms)\n",
        "\n",
        "#----------------------------------------------------------------------------------------<Classification>-----||\n",
        "features = np.array(histograms)\n",
        "labels = cifar_labels.flatten()\n",
        "\n",
        "X_train, X_test, y_train, y_test = train_test_split(features, labels, test_size=0.2, random_state=42)  # Split datasets\n",
        "classifier = SVC()  # SVM - Support vector Classification\n",
        "classifier.fit(X_train, y_train)\n",
        "\n",
        "y_pred = classifier.predict(X_test)\n",
        "accuracy = accuracy_score(y_test, y_pred)\n",
        "print(\"Accuracy:\", accuracy)  # Accuracy Score\n",
        "\n",
        "#--------------------------------------------------------------------------------------<Saving model pkl>-----||\n",
        "with open('svm_classifier_cifar10.pkl', 'wb') as file:\n",
        "    pickle.dump(classifier, file)\n"
      ]
    },
    {
      "cell_type": "code",
      "execution_count": 3,
      "metadata": {
        "colab": {
          "base_uri": "https://localhost:8080/"
        },
        "id": "shFnqFhlJAC9",
        "outputId": "aa9f5139-292b-41ad-cbeb-f227c3056106"
      },
      "outputs": [
        {
          "name": "stdout",
          "output_type": "stream",
          "text": [
            "Accuracy: 0.2965\n"
          ]
        }
      ],
      "source": [
        "from sklearn.linear_model import LogisticRegression\n",
        "\n",
        "clf_cifar10 = LogisticRegression(multi_class='multinomial', solver='lbfgs', max_iter=1000)\n",
        "clf_cifar10.fit(X_train, y_train)\n",
        "\n",
        "y_pred = clf_cifar10.predict(X_test)\n",
        "CLR_accuracy = accuracy_score(y_test, y_pred)\n",
        "print(\"Accuracy:\", CLR_accuracy)  # Accuracy Score"
      ]
    },
    {
      "cell_type": "code",
      "execution_count": 6,
      "metadata": {
        "colab": {
          "base_uri": "https://localhost:8080/"
        },
        "id": "He4CyGBIiDY8",
        "outputId": "09aa0b1c-a367-4f00-d081-095d952adf8f"
      },
      "outputs": [
        {
          "name": "stdout",
          "output_type": "stream",
          "text": [
            "Accuracy: 0.13216666666666665\n"
          ]
        }
      ],
      "source": [
        "from sklearn.neighbors import KNeighborsClassifier\n",
        "\n",
        "knn = KNeighborsClassifier(n_neighbors=7)\n",
        "knn.fit(X_train, y_train)\n",
        "\n",
        "y_pred = knn.predict(X_test)\n",
        "CKNN_accuracy = accuracy_score(y_test, y_pred)\n",
        "print(\"Accuracy:\", CKNN_accuracy)  # Accuracy Score"
      ]
    },
    {
      "cell_type": "code",
      "execution_count": 39,
      "metadata": {
        "colab": {
          "base_uri": "https://localhost:8080/",
          "height": 487
        },
        "id": "hrQmzLlezpGE",
        "outputId": "4fa238e4-e8f9-4838-b494-619b0fe0cf66"
      },
      "outputs": [
        {
          "data": {
            "image/png": "[encoded data removed]",
            "text/plain": [
              "<Figure size 800x500 with 1 Axes>"
            ]
          },
          "metadata": {},
          "output_type": "display_data"
        }
      ],
      "source": [
        "import numpy as np\n",
        "import matplotlib.pyplot as plt\n",
        "\n",
        "\n",
        "# creating the dataset\n",
        "data = {'Support Vector Classfier':accuracy, 'Logistic Regression':CLR_accuracy, 'KNN Classfier':CKNN_accuracy}\n",
        "courses = list(data.keys())\n",
        "values = list(data.values())\n",
        "\n",
        "fig = plt.figure(figsize = (8, 5))\n",
        "\n",
        "# creating the bar plot\n",
        "plt.bar(courses, values, color ='maroon', width = 0.3)\n",
        "\n",
        "plt.xlabel(\"Classification problem\")\n",
        "plt.ylabel(\"Test Accuracy\")\n",
        "plt.title(\"CIFAR10 Classfication problem using Bag of Visual Words Approach\")\n",
        "plt.show()"
      ]
    },
    {
      "cell_type": "code",
      "execution_count": null,
      "metadata": {
        "id": "vaA3Tjwtz3qu"
      },
      "outputs": [],
      "source": []
    }
  ],
  "metadata": {
    "colab": {
      "provenance": []
    },
    "kernelspec": {
      "display_name": "Python 3",
      "name": "python3"
    },
    "language_info": {
      "name": "python"
    }
  },
  "nbformat": 4,
  "nbformat_minor": 0
}
